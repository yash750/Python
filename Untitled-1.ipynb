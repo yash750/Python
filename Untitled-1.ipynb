{
 "cells": [
  {
   "cell_type": "markdown",
   "metadata": {},
   "source": [
    "# given two numbers a and b , find a/b ( a could be zero)."
   ]
  },
  {
   "cell_type": "code",
   "execution_count": 11,
   "metadata": {},
   "outputs": [
    {
     "name": "stdout",
     "output_type": "stream",
     "text": [
      "sorry , b cannot be zero , it is not defined.\n"
     ]
    }
   ],
   "source": [
    "# simple code for division of two numbers.\n",
    "a=int(input('enter first num:'))\n",
    "b=int(input('enter second num:'))\n",
    "if b==0 :\n",
    "    print('sorry , b cannot be zero , it is not defined.')\n",
    "else:\n",
    "    result= a/b\n",
    "    print(result)"
   ]
  },
  {
   "cell_type": "markdown",
   "metadata": {},
   "source": [
    "# Given a point in 2D space , find the quadrant in which it lies."
   ]
  },
  {
   "cell_type": "code",
   "execution_count": 14,
   "metadata": {},
   "outputs": [
    {
     "name": "stdout",
     "output_type": "stream",
     "text": [
      "x is: 0\n",
      "y is: -7\n",
      " on -ve y axis\n"
     ]
    }
   ],
   "source": [
    "# first we have to input a point for checking its quadrant.\n",
    "x=int(input('enter first num:'))\n",
    "y=int(input('enter second num:'))\n",
    "print('x is:',x)\n",
    "print('y is:',y)\n",
    "# mathematical conditions for quadrant determination.\n",
    "if x > 0 and y>0 :\n",
    "    print('given point is in first quadrant')\n",
    "elif x>0 and y<0 :\n",
    "    print('given point is in forth quadrant')\n",
    "elif x<0 and y>0 :\n",
    "    print('given point is in second quadrant')\n",
    "#Special case for origin point and for point on axes.\n",
    "elif x==0 :\n",
    "    if y==0 :\n",
    "        print('it is origin point')\n",
    "    elif y>0 :\n",
    "        print('on +ve y axis')\n",
    "    else:\n",
    "        print(' on -ve y axis')\n",
    "elif y==0 :\n",
    "    if x >0 :\n",
    "        print('on +ve x axis')\n",
    "    else:\n",
    "        print('on -ve x axis')\n",
    "else:\n",
    "    print('given point is in third quadrant')"
   ]
  },
  {
   "cell_type": "markdown",
   "metadata": {},
   "source": [
    "# Given two points in 2D space , find the slope and y - intercept of the line joining them."
   ]
  },
  {
   "cell_type": "code",
   "execution_count": 14,
   "metadata": {},
   "outputs": [
    {
     "name": "stdout",
     "output_type": "stream",
     "text": [
      "point first is : (0, 9)\n",
      "point second is: (5, 1)\n",
      "intercept is: 9.0\n",
      "slope is : -1.6\n"
     ]
    }
   ],
   "source": [
    "# First we take inputs to get values for two distinct points.\n",
    "x1=int(input('enter the value of x1:'))\n",
    "y1=int(input('enter the value of y1:'))\n",
    "print('point first is :',(x1,y1))\n",
    "x2=int(input('enter the value of x2:'))\n",
    "y2=int(input('enter the value of y2:'))\n",
    "print('point second is:',(x2,y2))\n",
    "y=y2-y1\n",
    "x=x2-x1\n",
    "# mathematical logic to find slope from two points.\n",
    "# slope = (y2-y1)/(x2-x1)\n",
    "#For intercept : by comparing equations y=mx+c and (y-y1)= slope*(x-x1) we get , intercept= (y1-x1)*(slope)\n",
    "if x != 0:\n",
    "    slope= y/x\n",
    "    c=y1-x1*(y/x)\n",
    "    print('intercept is:',c)\n",
    "    print('slope is :',slope)\n",
    "else:\n",
    "    print('slope is infinte')"
   ]
  },
  {
   "cell_type": "markdown",
   "metadata": {},
   "source": [
    "# Given a temperature in  fahrenheit convert it to celsius.If the temp. is below 10 celsius output is cold, between 10 to 25 output is pleasant, between 25 to 35 output is warm , and if above 35 celsius then output is hot."
   ]
  },
  {
   "cell_type": "code",
   "execution_count": 17,
   "metadata": {},
   "outputs": [
    {
     "name": "stdout",
     "output_type": "stream",
     "text": [
      "temp in celsius is: 65.55555555555556\n",
      "hot\n"
     ]
    }
   ],
   "source": [
    "#first take input the temperature in terms of fahrenheit.\n",
    "f=float(input('enter temp. in fahrenheit:'))\n",
    "#formula to convert temperature fahrenheit to celsius.\n",
    "c=(f -32)*5/9\n",
    "print('temp in celsius is:',c)\n",
    "if c<10:\n",
    "    print('cold')\n",
    "elif c>10 and c<25 :\n",
    "    print('pleasant')\n",
    "elif c>25 and c<35 :\n",
    "    print('warm')\n",
    "else:\n",
    "    print('hot')\n"
   ]
  },
  {
   "cell_type": "markdown",
   "metadata": {},
   "source": [
    "# Given three points,find out whether they lie on the same straight line or not."
   ]
  },
  {
   "cell_type": "code",
   "execution_count": null,
   "metadata": {},
   "outputs": [],
   "source": [
    "# First we take input the values of three distinct points.\n",
    "x1=int(input('enter value of x1:'))\n",
    "y1=int(input('enter value of y1:'))\n",
    "print('given first point is:',(x1,y1))\n",
    "x2=int(input('enter value of x2:'))\n",
    "y2=int(input('enter value of y2:'))\n",
    "print('given second point is:',(x2,y2))\n",
    "x3=int(input('enter value of x3:'))\n",
    "y3=int(input('enter value of y3:'))\n",
    "print('given third point is:',(x3,y3))\n",
    "if x2-x1 !=0 and x3-x2 != 0 :\n",
    "    #mathematical logic to check collinearity.\n",
    "    # slope of ab = slope of bc\n",
    "    slope_ab= (y2-y1)/(x2-x1)\n",
    "    slope_bc = (y3-y2)/(x3-x2)\n",
    "    if  slope_ab == slope_bc :\n",
    "        print('given points are collinear')\n",
    "    else:\n",
    "        print('points are not collinear')\n",
    "elif x1==x2 and x2==x1:\n",
    "    print('points are collinear with infinite slope.')\n",
    "else:\n",
    "    print('points are not collinear.')\n"
   ]
  },
  {
   "cell_type": "markdown",
   "metadata": {},
   "source": [
    "# Given a quadratic equation with coefficients a, b, and c.find the two solutions(may be real or complex)."
   ]
  },
  {
   "cell_type": "code",
   "execution_count": 35,
   "metadata": {},
   "outputs": [
    {
     "name": "stdout",
     "output_type": "stream",
     "text": [
      "a is: 1.0\n",
      "b is -1.0\n",
      "c is -3.0\n",
      "two real solutions are : (3.75, -2.75)\n"
     ]
    }
   ],
   "source": [
    "#First take inputs for coefficients to make quadratic.\n",
    "a=float(input('enter coefficient a :'))\n",
    "print('a is:',a)\n",
    "b=float(input('enter coefficient b :'))\n",
    "print('b is',b)\n",
    "c=float(input('enter coefficient c :'))\n",
    "print('c is',c)\n",
    "#formula for discriminant\n",
    "# if D is +ve then solutions are real , otherwise solutions are complex.\n",
    "d= (b**2 )- (4*a*c)\n",
    "if d >=0:\n",
    "    if a== 0:\n",
    "        #first check value of a \n",
    "        # if a=0 then equation is no more quadratic ,it becomes linear\n",
    "        print(' a is zero,equation is linear')\n",
    "    else:\n",
    "        #for solutions we have to execute quadratuc formula\n",
    "        r1 =(-b + (d**1/2))/2*a\n",
    "        r2= (-b - (d**1/2))/2*a\n",
    "        print('two real solutions are :',(r1,r2))\n",
    "else:\n",
    "    print('Sorry! both solutions are complex ,real part and complex are:',(-b/2*a),',',((str(d)+'i')+'/'+str(2*a)))"
   ]
  }
 ],
 "metadata": {
  "kernelspec": {
   "display_name": "Python 3",
   "language": "python",
   "name": "python3"
  },
  "language_info": {
   "codemirror_mode": {
    "name": "ipython",
    "version": 3
   },
   "file_extension": ".py",
   "mimetype": "text/x-python",
   "name": "python",
   "nbconvert_exporter": "python",
   "pygments_lexer": "ipython3",
   "version": "3.11.5"
  },
  "orig_nbformat": 4
 },
 "nbformat": 4,
 "nbformat_minor": 2
}
