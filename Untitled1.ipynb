{
  "nbformat": 4,
  "nbformat_minor": 0,
  "metadata": {
    "colab": {
      "provenance": [],
      "authorship_tag": "ABX9TyPJqJLrqlAhRrYxdN2+uLeU",
      "include_colab_link": true
    },
    "kernelspec": {
      "name": "python3",
      "display_name": "Python 3"
    },
    "language_info": {
      "name": "python"
    }
  },
  "cells": [
    {
      "cell_type": "markdown",
      "metadata": {
        "id": "view-in-github",
        "colab_type": "text"
      },
      "source": [
        "<a href=\"https://colab.research.google.com/github/yash750/Python/blob/main/Untitled1.ipynb\" target=\"_parent\"><img src=\"https://colab.research.google.com/assets/colab-badge.svg\" alt=\"Open In Colab\"/></a>"
      ]
    },
    {
      "cell_type": "code",
      "execution_count": 1,
      "metadata": {
        "colab": {
          "base_uri": "https://localhost:8080/"
        },
        "id": "dnrGeVZWEEZB",
        "outputId": "b22c62de-57b7-4e35-c310-47118b92fbb0"
      },
      "outputs": [
        {
          "output_type": "stream",
          "name": "stdout",
          "text": [
            "enter the number1:76\n",
            "enter the number2:65\n",
            "enter the number3:54\n",
            "a is greatest\n"
          ]
        }
      ],
      "source": [
        "#Code for determining greatest among three given numbers\n",
        "a=int(input('enter the number1:'))\n",
        "b=int(input('enter the number2:'))\n",
        "c=int(input('enter the number3:'))\n",
        "#First we compare 'a' with others.\n",
        "if a>b :\n",
        "  if a>c :\n",
        "     print('a is greatest')\n",
        "  else:\n",
        "     print('c is greatest')\n",
        "#Then, we check b is greatest or not ?\n",
        "elif b>c :\n",
        "  print('b is greatest')\n",
        "#Atlast finally 'c' is definitely greatest.\n",
        "else:\n",
        "  print('c is greatest')\n"
      ]
    }
  ]
}