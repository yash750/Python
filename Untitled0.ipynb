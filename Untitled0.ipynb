{
  "nbformat": 4,
  "nbformat_minor": 0,
  "metadata": {
    "colab": {
      "provenance": [],
      "authorship_tag": "ABX9TyMIpiX+Bj08XfMsqYJHcy5u",
      "include_colab_link": true
    },
    "kernelspec": {
      "name": "python3",
      "display_name": "Python 3"
    },
    "language_info": {
      "name": "python"
    }
  },
  "cells": [
    {
      "cell_type": "markdown",
      "metadata": {
        "id": "view-in-github",
        "colab_type": "text"
      },
      "source": [
        "<a href=\"https://colab.research.google.com/github/yash750/Python/blob/main/Untitled0.ipynb\" target=\"_parent\"><img src=\"https://colab.research.google.com/assets/colab-badge.svg\" alt=\"Open In Colab\"/></a>"
      ]
    },
    {
      "cell_type": "code",
      "execution_count": null,
      "metadata": {
        "id": "OtQVnkTAdO68",
        "colab": {
          "base_uri": "https://localhost:8080/"
        },
        "outputId": "ac630aa9-cc16-40ae-aec3-4f32e082b7b1"
      },
      "outputs": [
        {
          "output_type": "execute_result",
          "data": {
            "text/plain": [
              "4"
            ]
          },
          "metadata": {},
          "execution_count": 2
        }
      ],
      "source": [
        "2+2"
      ]
    },
    {
      "cell_type": "code",
      "source": [
        "#Code based on Robinson Formula.\n",
        "#Robinson Formula is used to determine weight from height.\n",
        "# Some convention for gender\n",
        "# 1= male and 0 = female\n",
        "gender=int(input('write gender as 1 or 0:'))\n",
        "height=float(input('enter your height above 60 inches in inches:'))\n",
        "if gender==1:\n",
        "    #For male gender: Mathematical logic to find weight\n",
        "    w= 52 + 1.9 * height\n",
        "    print('you are male')\n",
        "    print('your expected weight is:',w)\n",
        "else:\n",
        "    #For female gender:Mathematical logic to find weight\n",
        "    w=49 + 1.6*height\n",
        "    print('you are female')\n",
        "    print('your expected weight is:',w)"
      ],
      "metadata": {
        "colab": {
          "base_uri": "https://localhost:8080/"
        },
        "id": "kB23paw-ACiq",
        "outputId": "edcaf7df-744c-44c0-ee0e-97c78a6d2713"
      },
      "execution_count": 1,
      "outputs": [
        {
          "output_type": "stream",
          "name": "stdout",
          "text": [
            "write gender as 1 or 0:1\n",
            "enter your height above 60 inches in inches:12\n",
            "you are male\n",
            "your expected weight is: 74.8\n"
          ]
        }
      ]
    },
    {
      "cell_type": "code",
      "source": [
        "a=2\n",
        "b=2\n",
        "a+b"
      ],
      "metadata": {
        "colab": {
          "base_uri": "https://localhost:8080/"
        },
        "id": "C7cHLPyifD5N",
        "outputId": "1367f50e-9f82-4adc-d051-889fcbb48a4f"
      },
      "execution_count": null,
      "outputs": [
        {
          "output_type": "execute_result",
          "data": {
            "text/plain": [
              "4"
            ]
          },
          "metadata": {},
          "execution_count": 3
        }
      ]
    },
    {
      "cell_type": "code",
      "source": [
        "a=3.2\n",
        "b=4.3\n",
        "a+b"
      ],
      "metadata": {
        "colab": {
          "base_uri": "https://localhost:8080/"
        },
        "id": "MEbDfAZifcoS",
        "outputId": "aace2006-68cd-4179-e07d-fea7b83aaca1"
      },
      "execution_count": null,
      "outputs": [
        {
          "output_type": "execute_result",
          "data": {
            "text/plain": [
              "7.5"
            ]
          },
          "metadata": {},
          "execution_count": 4
        }
      ]
    },
    {
      "cell_type": "code",
      "source": [
        "int(a)"
      ],
      "metadata": {
        "colab": {
          "base_uri": "https://localhost:8080/"
        },
        "id": "K5u-QfbvhGlM",
        "outputId": "b102b4dd-5410-472b-99f8-ae42d724bde1"
      },
      "execution_count": null,
      "outputs": [
        {
          "output_type": "execute_result",
          "data": {
            "text/plain": [
              "3"
            ]
          },
          "metadata": {},
          "execution_count": 5
        }
      ]
    },
    {
      "cell_type": "code",
      "source": [
        "int(a+b)"
      ],
      "metadata": {
        "colab": {
          "base_uri": "https://localhost:8080/"
        },
        "id": "5csd8EDfhh4V",
        "outputId": "14e1b6d9-2087-47fb-867e-80c5b6426477"
      },
      "execution_count": null,
      "outputs": [
        {
          "output_type": "execute_result",
          "data": {
            "text/plain": [
              "7"
            ]
          },
          "metadata": {},
          "execution_count": 6
        }
      ]
    },
    {
      "cell_type": "code",
      "source": [
        "a=3.6\n",
        "b=4.8\n",
        "a+b"
      ],
      "metadata": {
        "colab": {
          "base_uri": "https://localhost:8080/"
        },
        "id": "bnITHyGhhocp",
        "outputId": "9d29c572-d847-4a25-9359-14e6c6c3c94d"
      },
      "execution_count": null,
      "outputs": [
        {
          "output_type": "execute_result",
          "data": {
            "text/plain": [
              "8.4"
            ]
          },
          "metadata": {},
          "execution_count": 7
        }
      ]
    },
    {
      "cell_type": "code",
      "source": [
        "int(a)+int(b)"
      ],
      "metadata": {
        "colab": {
          "base_uri": "https://localhost:8080/"
        },
        "id": "-qsuqMuihyrz",
        "outputId": "da97b85f-6330-4bb2-c524-3b8f35f2d0e3"
      },
      "execution_count": null,
      "outputs": [
        {
          "output_type": "execute_result",
          "data": {
            "text/plain": [
              "7"
            ]
          },
          "metadata": {},
          "execution_count": 8
        }
      ]
    },
    {
      "cell_type": "code",
      "source": [
        "c=a+b\n",
        "d=int(a+b)\n",
        "e=int(a)+int(b)\n",
        "print(c)\n",
        "print(d)\n",
        "print(e)"
      ],
      "metadata": {
        "colab": {
          "base_uri": "https://localhost:8080/"
        },
        "id": "iISTCHWXh6HH",
        "outputId": "8cde2dea-9d89-4c60-8568-ebbf83820a8a"
      },
      "execution_count": null,
      "outputs": [
        {
          "output_type": "stream",
          "name": "stdout",
          "text": [
            "8.4\n",
            "8\n",
            "7\n"
          ]
        }
      ]
    },
    {
      "cell_type": "code",
      "source": [
        "print(\"the value of a+b is:\", c )"
      ],
      "metadata": {
        "colab": {
          "base_uri": "https://localhost:8080/"
        },
        "id": "Sd-MeEGIinuv",
        "outputId": "5b62e5bc-87aa-49f0-cc5d-bd729dfc19f7"
      },
      "execution_count": null,
      "outputs": [
        {
          "output_type": "stream",
          "name": "stdout",
          "text": [
            "the value of a+b is: 8.4\n"
          ]
        }
      ]
    },
    {
      "cell_type": "code",
      "source": [
        "if a>b :\n",
        "  print(\"a is greater\")\n",
        "elif b>a :\n",
        "  print(\"b is greater\")\n",
        "else:\n",
        "  print(\"both are equal\")"
      ],
      "metadata": {
        "colab": {
          "base_uri": "https://localhost:8080/"
        },
        "id": "o2PuDePjjQmo",
        "outputId": "3e610bd8-276b-4cde-a6d9-225d58379b79"
      },
      "execution_count": null,
      "outputs": [
        {
          "output_type": "stream",
          "name": "stdout",
          "text": [
            "b is greater\n"
          ]
        }
      ]
    },
    {
      "cell_type": "code",
      "source": [
        "if a > b :\n",
        "  print('a is greater')\n",
        "print('hello')"
      ],
      "metadata": {
        "colab": {
          "base_uri": "https://localhost:8080/"
        },
        "id": "4e3z6S4rlafL",
        "outputId": "3a2bf87f-f84a-4a8c-8e8d-fe11ff7a665b"
      },
      "execution_count": null,
      "outputs": [
        {
          "output_type": "stream",
          "name": "stdout",
          "text": [
            "hello\n"
          ]
        }
      ]
    },
    {
      "cell_type": "code",
      "source": [
        "a=2\n",
        "b=3\n",
        "c=4\n",
        "if a > b:\n",
        "  if a > c :\n",
        "    print('a is greater')\n",
        "if b>a :\n",
        "  if b>c :\n",
        "    print('b is greater')\n",
        "if c > a :\n",
        "  if c > b :\n",
        "    print('c is greater')\n"
      ],
      "metadata": {
        "id": "6hNGuEt8myqK",
        "colab": {
          "base_uri": "https://localhost:8080/"
        },
        "outputId": "ad6a9fa5-a925-4d31-94ed-77fbf10b9b81"
      },
      "execution_count": null,
      "outputs": [
        {
          "output_type": "stream",
          "name": "stdout",
          "text": [
            "c is greater\n"
          ]
        }
      ]
    },
    {
      "cell_type": "code",
      "source": [],
      "metadata": {
        "id": "BVTzcjdirh-3"
      },
      "execution_count": null,
      "outputs": []
    }
  ]
}