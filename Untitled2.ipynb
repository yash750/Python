{
  "nbformat": 4,
  "nbformat_minor": 0,
  "metadata": {
    "colab": {
      "provenance": [],
      "authorship_tag": "ABX9TyP2jUqORW6oAy69TP9JiUZg",
      "include_colab_link": true
    },
    "kernelspec": {
      "name": "python3",
      "display_name": "Python 3"
    },
    "language_info": {
      "name": "python"
    }
  },
  "cells": [
    {
      "cell_type": "markdown",
      "metadata": {
        "id": "view-in-github",
        "colab_type": "text"
      },
      "source": [
        "<a href=\"https://colab.research.google.com/github/yash750/Python/blob/main/Untitled2.ipynb\" target=\"_parent\"><img src=\"https://colab.research.google.com/assets/colab-badge.svg\" alt=\"Open In Colab\"/></a>"
      ]
    },
    {
      "cell_type": "code",
      "execution_count": 1,
      "metadata": {
        "colab": {
          "base_uri": "https://localhost:8080/"
        },
        "id": "eHEXtQJfIp6X",
        "outputId": "0ff97796-da7d-4e9b-df95-6c2be2dd2b90"
      },
      "outputs": [
        {
          "output_type": "stream",
          "name": "stdout",
          "text": [
            "write gender as 1 or 0:0\n",
            "enter your height above 60 inches in inches:12\n",
            "you are female\n",
            "your expected weight is: 68.2\n"
          ]
        }
      ],
      "source": [
        "#Code based on Robinson Formula.\n",
        "#Robinson Formula is used to determine weight from height.\n",
        "# Some convention for gender\n",
        "# 1= male and 0 = female\n",
        "gender=int(input('write gender as 1 or 0:'))\n",
        "height=float(input('enter your height above 60 inches in inches:'))\n",
        "if gender==1:\n",
        "    #For male gender: Mathematical logic to find weight\n",
        "    w= 52 + 1.9 * height\n",
        "    print('you are male')\n",
        "    print('your expected weight is:',w)\n",
        "else:\n",
        "    #For female gender:Mathematical logic to find weight\n",
        "    w=49 + 1.6*height\n",
        "    print('you are female')\n",
        "    print('your expected weight is:',w)"
      ]
    }
  ]
}